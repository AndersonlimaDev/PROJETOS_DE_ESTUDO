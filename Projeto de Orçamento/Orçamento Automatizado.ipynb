{
 "cells": [
  {
   "cell_type": "markdown",
   "id": "c4d7c6dc",
   "metadata": {},
   "source": [
    "- Gerador de Orçamento Automaticamente em PDF's\n",
    "\n",
    "- Descrição do projeto\n",
    "- Horas Estimadas\n",
    "- Valor de hora trabalhada\n",
    "- prazo de entrega\n",
    "- Total do Orçamento"
   ]
  },
  {
   "cell_type": "code",
   "execution_count": 1,
   "id": "6a31a666",
   "metadata": {},
   "outputs": [
    {
     "name": "stdout",
     "output_type": "stream",
     "text": [
      "Digite a descrição do projeto: Lima Designer Website\n",
      "Digite o total de horas estimadas: 100\n",
      "Digite o valor da hora trabalhada: 20\n",
      "Digite o prazo estimado: 30\n",
      "O valor estimado do projeto é de 2000 reais, para entregar em até 30 dias\n",
      "Requirement already satisfied: fpdf in c:\\users\\ander\\anaconda3\\lib\\site-packages (1.7.2)\n",
      "Orçamento gerado com sucesso!\n"
     ]
    }
   ],
   "source": [
    "# Inserção dos Dados\n",
    "projeto = input(\"Digite a descrição do projeto: \")\n",
    "horas_estimadas = input(\"Digite o total de horas estimadas: \")\n",
    "valor_hora = input(\"Digite o valor da hora trabalhada: \")\n",
    "prazo_estimado = input(\"Digite o prazo estimado: \")\n",
    "\n",
    "valor_total = int(horas_estimadas) * int(valor_hora)\n",
    "print(f\"O valor estimado do projeto é de {valor_total} reais, para entregar em até {prazo_estimado} dias\")\n",
    "\n",
    "# Importando e inserindo o fpdf\n",
    "!pip install fpdf\n",
    "from fpdf import FPDF\n",
    "\n",
    "pdf = FPDF()\n",
    "pdf.add_page()\n",
    "pdf.set_font(\"Arial\")\n",
    "\n",
    "# inserindo os dados do projeto\n",
    "pdf.image(\"orcamento.png\", x=0, y=0)\n",
    "\n",
    "pdf.set_font_size(16)\n",
    "pdf.text(115, 144, projeto)\n",
    "pdf.text(115, 161, horas_estimadas)\n",
    "pdf.text(115, 176, valor_hora)\n",
    "pdf.text(115, 193, prazo_estimado)\n",
    "pdf.text(115, 212, str(valor_total))\n",
    "\n",
    "pdf.output(\"orçamento.pdf\")\n",
    "print(\"Orçamento gerado com sucesso!\")"
   ]
  }
 ],
 "metadata": {
  "kernelspec": {
   "display_name": "Python 3 (ipykernel)",
   "language": "python",
   "name": "python3"
  },
  "language_info": {
   "codemirror_mode": {
    "name": "ipython",
    "version": 3
   },
   "file_extension": ".py",
   "mimetype": "text/x-python",
   "name": "python",
   "nbconvert_exporter": "python",
   "pygments_lexer": "ipython3",
   "version": "3.9.13"
  }
 },
 "nbformat": 4,
 "nbformat_minor": 5
}
